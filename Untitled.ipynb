{
 "cells": [
  {
   "cell_type": "code",
   "execution_count": 25,
   "metadata": {},
   "outputs": [],
   "source": [
    "import pandas\n",
    "import numpy as np\n",
    "np.set_printoptions(suppress=True)\n",
    "txt = pandas.read_csv(\"new_10_percent.cvs\",nrows=1)\n",
    "#my_matrix = np.loadtxt(open(\"new_10_percent.csv\"),delimiter=',',skiprows=0)"
   ]
  },
  {
   "cell_type": "code",
   "execution_count": 26,
   "metadata": {
    "scrolled": true
   },
   "outputs": [
    {
     "name": "stdout",
     "output_type": "stream",
     "text": [
      "   0.000000000000000000e+00  0.000000000000000000e+00.1  \\\n",
      "0                       0.0                         0.0   \n",
      "\n",
      "   2.941176470588235392e-01  9.000000000000000222e-01  \\\n",
      "0                  0.294118                       0.9   \n",
      "\n",
      "   2.610417637400702650e-07  1.057130021949510661e-03  \\\n",
      "0              3.446905e-07                  0.000094   \n",
      "\n",
      "   0.000000000000000000e+00.2  0.000000000000000000e+00.3  \\\n",
      "0                         0.0                         0.0   \n",
      "\n",
      "   0.000000000000000000e+00.4  0.000000000000000000e+00.5  \\\n",
      "0                         0.0                         0.0   \n",
      "\n",
      "              ...               3.529411764705882304e-02.1  \\\n",
      "0             ...                                  0.07451   \n",
      "\n",
      "   1.000000000000000000e+00.2  0.000000000000000000e+00.23  \\\n",
      "0                         1.0                          0.0   \n",
      "\n",
      "   1.100000000000000006e-01  0.000000000000000000e+00.24  \\\n",
      "0                      0.05                          0.0   \n",
      "\n",
      "   0.000000000000000000e+00.25  0.000000000000000000e+00.26  \\\n",
      "0                          0.0                          0.0   \n",
      "\n",
      "   0.000000000000000000e+00.27  0.000000000000000000e+00.28  \\\n",
      "0                          0.0                          0.0   \n",
      "\n",
      "   0.000000000000000000e+00.29  \n",
      "0                          0.0  \n",
      "\n",
      "[1 rows x 42 columns]\n"
     ]
    }
   ],
   "source": [
    "np.set_printoptions(suppress=True)\n",
    "print(txt)"
   ]
  },
  {
   "cell_type": "code",
   "execution_count": null,
   "metadata": {},
   "outputs": [],
   "source": []
  }
 ],
 "metadata": {
  "kernelspec": {
   "display_name": "Python 3",
   "language": "python",
   "name": "python3"
  },
  "language_info": {
   "codemirror_mode": {
    "name": "ipython",
    "version": 3
   },
   "file_extension": ".py",
   "mimetype": "text/x-python",
   "name": "python",
   "nbconvert_exporter": "python",
   "pygments_lexer": "ipython3",
   "version": "3.6.5"
  }
 },
 "nbformat": 4,
 "nbformat_minor": 2
}
